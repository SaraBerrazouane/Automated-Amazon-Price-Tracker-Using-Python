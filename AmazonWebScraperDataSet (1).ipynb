{
 "cells": [
  {
   "cell_type": "code",
   "execution_count": 9,
   "id": "9b122e2b-d79a-4ff3-9211-efaf69accad1",
   "metadata": {},
   "outputs": [],
   "source": [
    "# import libraries \n",
    "\n",
    "from bs4 import BeautifulSoup\n",
    "import requests\n",
    "import time\n",
    "import datetime\n",
    "import smtplib"
   ]
  },
  {
   "cell_type": "code",
   "execution_count": 11,
   "id": "1bf5d84c-7196-4890-95e6-41da2e8d2d04",
   "metadata": {},
   "outputs": [
    {
     "name": "stdout",
     "output_type": "stream",
     "text": [
      "CustUmmMerch Give Me All The Data Coffee Mug - Data Science Computer Accounting - Funny Data Scientist\n",
      "19.95\n"
     ]
    }
   ],
   "source": [
    "# Define the URL of the Amazon product page\n",
    "URL=\"https://www.amazon.com/Give-All-Data-Coffee-Mug/dp/B08FW3M2WT/ref=mp_s_a_1_4?crid=31EBH998SJ785&dib=eyJ2IjoiMSJ9.71OBqEmxz4VE0LxFUOET7YdZPKGpMik6ShEA4oa_PNGC1VBg0ckq-sQVsyzietR-f4hn4WKNhlQxn4-8idnxEhL_TO6sRCwp7SOnuLSL3maCpVoi0Hd-KirMCahNGktBjeWvM9jLu1RlkZec7V5mHeTYmNV1HvU8wUAbBFAm7CCt5CXwK7diTx3aKfb2xyvlnk7Vtr2WFvNMAXVMq3nV1A.VCpUDW4_PGvlA_l_OdA3luiHZ6R-7CrBC6NLzFNDTVg&dib_tag=se&keywords=data%2Banalyst%2Bmug&qid=1727630625&sprefix=data%2Banalyst%2Bmug%2Caps%2C219&sr=8-4\"\n",
    "\n",
    "# Define headers to mimic a browser request and avoid potential blocking\n",
    "headers = {\n",
    "    \"User-Agent\": \"Mozilla/5.0 (Windows NT 10.0; Win64; x64) AppleWebKit/537.36 (KHTML, like Gecko) Chrome/78.0.3904.108 Safari/537.36\",\n",
    "    \"Accept-Encoding\":\"gzip, deflate\",\n",
    "    \"Accept\":\"text/html,application/xhtml+xml,application/xml;q=0.9,*/*;q=0.8\",\n",
    "    \"DNT\":\"1\",\n",
    "    \"Connection\":\"close\",\n",
    "    \"Upgrade-Insecure-Requests\":\"1\"\n",
    "}\n",
    "\n",
    "# Make a GET request to the specified URL with the defined headers\n",
    "page = requests.get(URL, headers=headers)\n",
    "\n",
    "# Parse the page content with BeautifulSoup\n",
    "soup1 = BeautifulSoup(page.content, 'html.parser')\n",
    "soup2 = BeautifulSoup(soup1.prettify(), 'html.parser')\n",
    "\n",
    "# Extract the product title using the HTML element's ID\n",
    "title = soup2.find(id='title').get_text().strip()\n",
    "\n",
    "# Extract the product price components: whole, decimal, and fractional parts\n",
    "price1 = soup2.find('span', class_='a-price-whole').get_text().strip()[0:2]\n",
    "price2 = soup2.find('span', class_='a-price-decimal').get_text().strip()\n",
    "price3 = soup2.find('span', class_='a-price-fraction').get_text().strip()\n",
    "\n",
    "# Combine the price components into a single price string\n",
    "price = (price1 + price2 + price3)\n",
    "\n",
    "# Print the extracted title and price\n",
    "print(title)\n",
    "print(price)\n",
    "\n"
   ]
  },
  {
   "cell_type": "code",
   "execution_count": 13,
   "id": "415d6598-5267-4aa1-b6cb-a9a83e6492f9",
   "metadata": {},
   "outputs": [
    {
     "name": "stdout",
     "output_type": "stream",
     "text": [
      "2024-09-30\n"
     ]
    }
   ],
   "source": [
    "# Get today's date\n",
    "today=datetime.date.today()\n",
    "print(today)"
   ]
  },
  {
   "cell_type": "code",
   "execution_count": 15,
   "id": "aba5ee3b-5652-4dea-88cc-02f20d75cfbd",
   "metadata": {},
   "outputs": [],
   "source": [
    "import csv  # Ensure to import the csv module before using it\n",
    "\n",
    "# Define the header for the CSV file\n",
    "header = ['Title', 'Price', 'Date']\n",
    "\n",
    "# Create a list of data to write into the CSV\n",
    "data = [title, price, today]\n",
    "\n",
    "# Open a new CSV file in write mode with UTF-8 encoding\n",
    "with open('AmazonWebScraperDatasett.csv', 'w', newline='', encoding='UTF8') as f:\n",
    "    writer = csv.writer(f)  # Create a CSV writer object\n",
    "    writer.writerow(header)  # Write the header row to the CSV\n",
    "    writer.writerow(data)    # Write the data row to the CSV\n"
   ]
  },
  {
   "cell_type": "code",
   "execution_count": 17,
   "id": "f1d441ad-47b5-41b8-ba29-dec193a4ba6c",
   "metadata": {},
   "outputs": [],
   "source": [
    "import pandas as pd\n",
    "\n",
    "# Read the CSV file into a DataFrame\n",
    "df=pd.read_csv(r'C:\\Users\\PC\\AmazonWebScraperDatasett.csv')"
   ]
  },
  {
   "cell_type": "code",
   "execution_count": 19,
   "id": "ae7a22cc-3609-4afa-9101-5a6ad6d924dc",
   "metadata": {},
   "outputs": [
    {
     "data": {
      "text/html": [
       "<div>\n",
       "<style scoped>\n",
       "    .dataframe tbody tr th:only-of-type {\n",
       "        vertical-align: middle;\n",
       "    }\n",
       "\n",
       "    .dataframe tbody tr th {\n",
       "        vertical-align: top;\n",
       "    }\n",
       "\n",
       "    .dataframe thead th {\n",
       "        text-align: right;\n",
       "    }\n",
       "</style>\n",
       "<table border=\"1\" class=\"dataframe\">\n",
       "  <thead>\n",
       "    <tr style=\"text-align: right;\">\n",
       "      <th></th>\n",
       "      <th>Title</th>\n",
       "      <th>Price</th>\n",
       "      <th>Date</th>\n",
       "    </tr>\n",
       "  </thead>\n",
       "  <tbody>\n",
       "    <tr>\n",
       "      <th>0</th>\n",
       "      <td>CustUmmMerch Give Me All The Data Coffee Mug -...</td>\n",
       "      <td>19.95</td>\n",
       "      <td>2024-09-30</td>\n",
       "    </tr>\n",
       "  </tbody>\n",
       "</table>\n",
       "</div>"
      ],
      "text/plain": [
       "                                               Title  Price        Date\n",
       "0  CustUmmMerch Give Me All The Data Coffee Mug -...  19.95  2024-09-30"
      ]
     },
     "execution_count": 19,
     "metadata": {},
     "output_type": "execute_result"
    }
   ],
   "source": [
    "df"
   ]
  },
  {
   "cell_type": "code",
   "execution_count": 21,
   "id": "e1f112c6-f0e7-4dfd-beb7-fe065818b944",
   "metadata": {},
   "outputs": [],
   "source": [
    "# Put the code in a function to automate the process of scraping product data from an Amazon page and appending it to a CSV file.\n",
    "def check_price():\n",
    "    URL=\"https://www.amazon.com/Give-All-Data-Coffee-Mug/dp/B08FW3M2WT/ref=mp_s_a_1_4?crid=31EBH998SJ785&dib=eyJ2IjoiMSJ9.71OBqEmxz4VE0LxFUOET7YdZPKGpMik6ShEA4oa_PNGC1VBg0ckq-sQVsyzietR-f4hn4WKNhlQxn4-8idnxEhL_TO6sRCwp7SOnuLSL3maCpVoi0Hd-KirMCahNGktBjeWvM9jLu1RlkZec7V5mHeTYmNV1HvU8wUAbBFAm7CCt5CXwK7diTx3aKfb2xyvlnk7Vtr2WFvNMAXVMq3nV1A.VCpUDW4_PGvlA_l_OdA3luiHZ6R-7CrBC6NLzFNDTVg&dib_tag=se&keywords=data%2Banalyst%2Bmug&qid=1727630625&sprefix=data%2Banalyst%2Bmug%2Caps%2C219&sr=8-4\"\n",
    "    headers = {\"User-Agent\": \"Mozilla/5.0 (Windows NT 10.0; Win64; x64) AppleWebKit/537.36 (KHTML, like Gecko) Chrome/78.0.3904.108 Safari/537.36\", \"Accept-Encoding\":\"gzip, deflate\", \"Accept\":\"text/html,application/xhtml+xml,application/xml;q=0.9,*/*;q=0.8\", \"DNT\":\"1\",\"Connection\":\"close\", \"Upgrade-Insecure-Requests\":\"1\"}\n",
    "    \n",
    "    page=requests.get(URL,headers=headers)\n",
    "    soup1=BeautifulSoup(page.content,'html.parser')\n",
    "    soup2=BeautifulSoup(soup1.prettify(),'html.parser')\n",
    "    title=soup2.find(id='title').get_text().strip()\n",
    "    price1=soup2.find('span',class_='a-price-whole').get_text().strip()[0:2]\n",
    "    # price2=soup2.find('span',class_='a-price-decimal').get_text().strip()\n",
    "    price3=soup2.find('span',class_='a-price-fraction').get_text().strip()\n",
    "    price=(price1+price2+price3)\n",
    "    today=datetime.date.today()\n",
    "    import csv \n",
    "    data = [title, price,today]\n",
    "    with open('AmazonWebScraperDatasett.csv', 'a+', newline='', encoding='UTF8') as f:\n",
    "        writer = csv.writer(f)\n",
    "        writer.writerow(data)\n",
    "    "
   ]
  },
  {
   "cell_type": "code",
   "execution_count": null,
   "id": "06019929-d138-4c0a-851c-8b65f1de2916",
   "metadata": {},
   "outputs": [],
   "source": [
    "# Infinite loop to continuously check the product price at regular intervals\n",
    "while True:\n",
    "    check_price()  # Call the function to scrape the current price and title from the specified URL\n",
    "    time.sleep(86400)  # Pause execution for 86400 seconds (24 hours) before checking again\n"
   ]
  },
  {
   "cell_type": "code",
   "execution_count": null,
   "id": "59132586-9090-4bd0-bddb-ce427cf0e5f1",
   "metadata": {},
   "outputs": [],
   "source": [
    "import pandas as pd\n",
    "\n",
    "df=pd.read_csv(r'C:\\Users\\PC\\AmazonWebScraperDatasett.csv')\n",
    "df"
   ]
  },
  {
   "cell_type": "code",
   "execution_count": null,
   "id": "60ae33d7-fe08-44e9-be8b-ee2a541b2bdb",
   "metadata": {},
   "outputs": [],
   "source": []
  }
 ],
 "metadata": {
  "kernelspec": {
   "display_name": "Python 3 (ipykernel)",
   "language": "python",
   "name": "python3"
  },
  "language_info": {
   "codemirror_mode": {
    "name": "ipython",
    "version": 3
   },
   "file_extension": ".py",
   "mimetype": "text/x-python",
   "name": "python",
   "nbconvert_exporter": "python",
   "pygments_lexer": "ipython3",
   "version": "3.12.4"
  }
 },
 "nbformat": 4,
 "nbformat_minor": 5
}
